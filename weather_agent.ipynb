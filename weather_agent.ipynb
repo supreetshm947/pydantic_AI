{
 "cells": [
  {
   "cell_type": "code",
   "execution_count": 6,
   "metadata": {},
   "outputs": [
    {
     "data": {
      "text/plain": [
       "<logfire._internal.main.Logfire at 0x7fb6a2813860>"
      ]
     },
     "execution_count": 6,
     "metadata": {},
     "output_type": "execute_result"
    }
   ],
   "source": [
    "import os\n",
    "from dotenv import load_dotenv\n",
    "from pydantic import BaseModel\n",
    "from pydantic_ai.models import KnownModelName\n",
    "from pydantic_ai import Agent\n",
    "from typing import cast\n",
    "import logfire\n",
    "from dataclasses import dataclass\n",
    "from httpx import AsyncClient\n",
    "\n",
    "load_dotenv()\n",
    "logfire.configure(send_to_logfire='if-token-present')"
   ]
  },
  {
   "cell_type": "code",
   "execution_count": 7,
   "metadata": {},
   "outputs": [],
   "source": [
    "@dataclass\n",
    "class Deps:\n",
    "    client: AsyncClient\n",
    "    weather_api_key: str | None\n",
    "    geo_api_key: str | None"
   ]
  },
  {
   "cell_type": "code",
   "execution_count": null,
   "metadata": {},
   "outputs": [],
   "source": [
    "weather_agent = Agent(\n",
    "    cast(KnownModelName, os.getenv(PYDANTIC_AI_MODEL))\n",
    ")"
   ]
  }
 ],
 "metadata": {
  "kernelspec": {
   "display_name": ".venv",
   "language": "python",
   "name": "python3"
  },
  "language_info": {
   "codemirror_mode": {
    "name": "ipython",
    "version": 3
   },
   "file_extension": ".py",
   "mimetype": "text/x-python",
   "name": "python",
   "nbconvert_exporter": "python",
   "pygments_lexer": "ipython3",
   "version": "3.12.4"
  }
 },
 "nbformat": 4,
 "nbformat_minor": 2
}
